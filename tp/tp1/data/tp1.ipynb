{
 "cells": [
  {
   "cell_type": "code",
   "execution_count": null,
   "metadata": {},
   "outputs": [],
   "source": [
    "import numpy as np\n",
    "import skimage\n",
    "import imageio\n",
    "import matplotlib.pyplot as plt\n",
    "# Ajoutez d'autres modules au besoin"
   ]
  },
  {
   "cell_type": "markdown",
   "metadata": {},
   "source": [
    "# Exercice 1 : Imagerie de la rétine & Message secret\n",
    "Les images à utiliser pour cet exercice sont `tp1_ex1_img1.tiff` et `tp1_ex1_img2.tiff`."
   ]
  },
  {
   "cell_type": "code",
   "execution_count": null,
   "metadata": {},
   "outputs": [],
   "source": [
    "# Votre solution ici. Ajoutez des cellules si nécessaire"
   ]
  },
  {
   "cell_type": "markdown",
   "metadata": {},
   "source": [
    "# Exercice 2 : Avatar UQAM\n",
    "- Vous devez utiliser l'image `tp1_ex2_logo.tiff` ainsi qu'une photo de vous-même pour cet exercice."
   ]
  },
  {
   "cell_type": "code",
   "execution_count": null,
   "metadata": {},
   "outputs": [],
   "source": [
    "def creation_profil(input_file, output_file, centre, s):\n",
    "    \"\"\"TP1/Ex3 : Création d'une photo de profil UQAM.\n",
    "    Paramètres\n",
    "    ----------\n",
    "    input_file : str\n",
    "        Chemin vers l'image originale\n",
    "    output_file : str\n",
    "        Chemin vers l'image modifiée\n",
    "    centre : tuple (2,)\n",
    "        Tuple ou liste de longueur 2 contenant les coordonnées (r,c) du centre du visage\n",
    "    s : int\n",
    "        Taille de la photo de profil en pixel\n",
    "    \"\"\"\n",
    "    pass # Remplacez pass par votre code"
   ]
  },
  {
   "cell_type": "code",
   "execution_count": null,
   "metadata": {},
   "outputs": [],
   "source": [
    "# Votre solution ici. Ajoutez des cellules si nécessaire"
   ]
  },
  {
   "cell_type": "markdown",
   "metadata": {},
   "source": [
    "# Exercice 3 : Code-barres mystère\n",
    "L'image à utiliser pour cet exercice est `tp1_ex3_livre_mystere.png`."
   ]
  },
  {
   "cell_type": "code",
   "execution_count": null,
   "metadata": {},
   "outputs": [],
   "source": [
    "# Votre solution ici. Ajoutez des cellules si nécessaire"
   ]
  }
 ],
 "metadata": {
  "kernelspec": {
   "display_name": "Python 3",
   "language": "python",
   "name": "python3"
  },
  "language_info": {
   "codemirror_mode": {
    "name": "ipython",
    "version": 3
   },
   "file_extension": ".py",
   "mimetype": "text/x-python",
   "name": "python",
   "nbconvert_exporter": "python",
   "pygments_lexer": "ipython3",
   "version": "3.9.5"
  },
  "toc": {
   "base_numbering": 1,
   "nav_menu": {},
   "number_sections": false,
   "sideBar": true,
   "skip_h1_title": false,
   "title_cell": "Table of Contents",
   "title_sidebar": "Contents",
   "toc_cell": false,
   "toc_position": {},
   "toc_section_display": true,
   "toc_window_display": false
  }
 },
 "nbformat": 4,
 "nbformat_minor": 1
}
