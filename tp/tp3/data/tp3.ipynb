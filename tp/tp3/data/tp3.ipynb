{
 "cells": [
  {
   "cell_type": "markdown",
   "metadata": {},
   "source": [
    "# Travail pratique 3\n",
    "*INF600F - Traitement d'images (H2022, UQÀM)*"
   ]
  },
  {
   "cell_type": "markdown",
   "metadata": {},
   "source": [
    "* Indiquez ici votre prénom/nom et code permanent.\n",
    "* Modifiez aussi le nom du notebook pour qu'il ait ce format : `TP3-NOM1_NOM2`, où `NOM{k}` est le nom de famille de chaque membre de votre équipe."
   ]
  },
  {
   "cell_type": "code",
   "execution_count": 15,
   "metadata": {},
   "outputs": [],
   "source": [
    "import imageio\n",
    "import numpy as np\n",
    "import matplotlib.pyplot as plt\n",
    "import tp3\n",
    "\n",
    "# Importation des modules pertinents ici.\n",
    "# Assurez-vous d'inclure toute autre fonction que vous\n",
    "# jugez nécessaires ici"
   ]
  },
  {
   "cell_type": "markdown",
   "metadata": {},
   "source": [
    "# Exercice 1 : Bruit expornentiel"
   ]
  },
  {
   "cell_type": "code",
   "execution_count": null,
   "metadata": {},
   "outputs": [],
   "source": [
    "im_ex1 = imageio.imread(\"tp3_ex1.tiff\")"
   ]
  },
  {
   "cell_type": "code",
   "execution_count": null,
   "metadata": {},
   "outputs": [],
   "source": [
    "# Ajouter ici des cellules de code / markdown pour vos réponses"
   ]
  },
  {
   "cell_type": "markdown",
   "metadata": {},
   "source": [
    "# Exercice 2 : Télescope spatial James-Webb"
   ]
  },
  {
   "cell_type": "code",
   "execution_count": 2,
   "metadata": {},
   "outputs": [],
   "source": [
    "# Initialisation du télescope\n",
    "telescope = tp3.JamesWebbSimulator('<mon_code_permanent> et <celui de mon collègue>')\n",
    "\n",
    "# Importation de l'image de l'étoile HD85506 pour la calibration\n",
    "im_ex2 = imageio.imread('tp3_ex2.tiff')"
   ]
  },
  {
   "cell_type": "code",
   "execution_count": null,
   "metadata": {},
   "outputs": [],
   "source": [
    "# Algorithme de calibration à compléter\n",
    "def calibration(telescope: tp3.JamesWebbSimulator, image: np.ndarray) -> tp3.JamesWebbSimulator:\n",
    "    \"\"\" Calibration du télescope.\n",
    "    Parameters\n",
    "    ----------\n",
    "    telescope: tp3.JamesWebbSimulator\n",
    "        Télescope à calibrer\n",
    "    image: np.ndarray\n",
    "        Image à utiliser pour la calibration (étoile isolée HD84406)\n",
    "    Returns\n",
    "    -------\n",
    "    telescope: tp3.JamesWebbSimulator\n",
    "        Télescope calibré    \n",
    "    \"\"\"\n",
    "    ## Pour chaque miroir de votre télescope (`telescope.nb_mirrors`)\n",
    "    for i in range(telescope.nb_mirrors):\n",
    "        # TODO: Capture d'une image `im1` de l'étoile `HD84406`\n",
    "        # TODO: Déplacer le miroir d'une distance de -100 pixels.\n",
    "        # TODO: Capture d'une image `im2` de l'étoile `HD84406`\n",
    "        # TODO: Comparaison différentielle des images `im_d = im1 - im2` pour déterminer quelle étoile est associée à ce miroir\n",
    "        # TODO: Segmentation de `im_d` et calcul de la position moyenne de l'étoile pour ce miroir.\n",
    "        # TODO: Calcul de la correction à appliquer à ce miroir pour le placer au centre du champ de vue.\n",
    "        pass\n",
    "\n",
    "    \n",
    "    # TODO: Appliquer la correction pour chaque miroir\n",
    "       \n",
    "    return telescope"
   ]
  },
  {
   "cell_type": "code",
   "execution_count": null,
   "metadata": {},
   "outputs": [],
   "source": [
    "# Ajouter ici des cellules de code / markdown pour vos réponses"
   ]
  },
  {
   "cell_type": "markdown",
   "metadata": {},
   "source": [
    "# Exercice 3 : Segmentation d'une angiographie"
   ]
  },
  {
   "cell_type": "code",
   "execution_count": null,
   "metadata": {},
   "outputs": [],
   "source": [
    "im_ex3 = imageio.imread('tp3_ex3.tiff') # Image des vaisseaux sanguins\n",
    "im_ex3_annotation = imageio.imread('tp3_ex3_annotation.tiff') # Annotation manuelle des vaisseaux sanguins dans une partie de l'image"
   ]
  },
  {
   "cell_type": "code",
   "execution_count": null,
   "metadata": {},
   "outputs": [],
   "source": [
    "# Ajouter ici des cellules de code / markdown pour vos réponses"
   ]
  }
 ],
 "metadata": {
  "interpreter": {
   "hash": "be1c3bd0e5418d3c6c6e55304d38e4e527392109015e97a145d682fd703a72a2"
  },
  "kernelspec": {
   "display_name": "Python 3.8.8 ('inf600f')",
   "language": "python",
   "name": "python3"
  },
  "language_info": {
   "codemirror_mode": {
    "name": "ipython",
    "version": 3
   },
   "file_extension": ".py",
   "mimetype": "text/x-python",
   "name": "python",
   "nbconvert_exporter": "python",
   "pygments_lexer": "ipython3",
   "version": "3.8.8"
  },
  "orig_nbformat": 4
 },
 "nbformat": 4,
 "nbformat_minor": 2
}
